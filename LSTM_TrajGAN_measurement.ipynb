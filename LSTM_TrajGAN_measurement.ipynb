{
 "cells": [
  {
   "cell_type": "code",
   "execution_count": 1,
   "metadata": {},
   "outputs": [],
   "source": [
    "import numpy as np\n",
    "import scipy as sp\n",
    "import pandas as pd\n",
    "from shapely.geometry import Polygon\n",
    "from scipy.spatial.distance import directed_hausdorff"
   ]
  },
  {
   "cell_type": "code",
   "execution_count": 2,
   "metadata": {},
   "outputs": [],
   "source": [
    "original = pd.read_csv('/root/autodl-tmp/location-privacy/data/test_latlon.csv')\n",
    "syn_demo = pd.read_csv('/root/autodl-tmp/location-privacy/results/syn_traj_test.csv')"
   ]
  },
  {
   "cell_type": "code",
   "execution_count": 4,
   "metadata": {},
   "outputs": [],
   "source": [
    "# IoU based on Convex Hull\n",
    "\n",
    "syn_demo_IOU = []\n",
    "# Hausdorff\n",
    "\n",
    "syn_demo_Haus = []\n",
    "\n",
    "tidlist = list(original['tid'].unique())\n",
    "\n",
    "for tid in tidlist:\n",
    "    real_traj = np.concatenate([np.array(original.loc[original['tid'] == tid][\"lat\"]).reshape(-1,1),\n",
    "                                np.array(original.loc[original['tid'] == tid][\"lon\"]).reshape(-1,1)],\n",
    "                               axis=1)\n",
    "    syn_demo_traj = np.concatenate([np.array(syn_demo.loc[syn_demo['tid'] == tid][\"lat\"]).reshape(-1,1),\n",
    "                               np.array(syn_demo.loc[syn_demo['tid'] == tid][\"lon\"]).reshape(-1,1)],\n",
    "                              axis=1)\n",
    "    \n",
    "    syn_demo_Haus.append(directed_hausdorff(real_traj,syn_demo_traj)[0])\n",
    "    \n",
    "    real_traj_convex_hull = Polygon(real_traj).convex_hull\n",
    "    syn_demo_traj_convex_hull = Polygon(syn_demo_traj).convex_hull\n",
    "    syn_demo_I = real_traj_convex_hull.intersection(syn_demo_traj_convex_hull).area\n",
    "    syn_demo_U = real_traj_convex_hull.union(syn_demo_traj_convex_hull).area\n",
    "    syn_demo_IOU.append(syn_demo_I/syn_demo_U)"
   ]
  },
  {
   "cell_type": "code",
   "execution_count": 6,
   "metadata": {},
   "outputs": [
    {
     "data": {
      "text/html": [
       "<div>\n",
       "<style scoped>\n",
       "    .dataframe tbody tr th:only-of-type {\n",
       "        vertical-align: middle;\n",
       "    }\n",
       "\n",
       "    .dataframe tbody tr th {\n",
       "        vertical-align: top;\n",
       "    }\n",
       "\n",
       "    .dataframe thead th {\n",
       "        text-align: right;\n",
       "    }\n",
       "</style>\n",
       "<table border=\"1\" class=\"dataframe\">\n",
       "  <thead>\n",
       "    <tr style=\"text-align: right;\">\n",
       "      <th></th>\n",
       "      <th>syn_demo_IOU</th>\n",
       "      <th>syn_demo_Haus</th>\n",
       "    </tr>\n",
       "  </thead>\n",
       "  <tbody>\n",
       "    <tr>\n",
       "      <th>count</th>\n",
       "      <td>1027.000000</td>\n",
       "      <td>1027.000000</td>\n",
       "    </tr>\n",
       "    <tr>\n",
       "      <th>mean</th>\n",
       "      <td>0.009568</td>\n",
       "      <td>0.239706</td>\n",
       "    </tr>\n",
       "    <tr>\n",
       "      <th>std</th>\n",
       "      <td>0.030599</td>\n",
       "      <td>0.122843</td>\n",
       "    </tr>\n",
       "    <tr>\n",
       "      <th>min</th>\n",
       "      <td>0.000000</td>\n",
       "      <td>0.026415</td>\n",
       "    </tr>\n",
       "    <tr>\n",
       "      <th>25%</th>\n",
       "      <td>0.000000</td>\n",
       "      <td>0.137941</td>\n",
       "    </tr>\n",
       "    <tr>\n",
       "      <th>50%</th>\n",
       "      <td>0.000000</td>\n",
       "      <td>0.238914</td>\n",
       "    </tr>\n",
       "    <tr>\n",
       "      <th>75%</th>\n",
       "      <td>0.000000</td>\n",
       "      <td>0.328614</td>\n",
       "    </tr>\n",
       "    <tr>\n",
       "      <th>max</th>\n",
       "      <td>0.274874</td>\n",
       "      <td>0.669555</td>\n",
       "    </tr>\n",
       "  </tbody>\n",
       "</table>\n",
       "</div>"
      ],
      "text/plain": [
       "       syn_demo_IOU  syn_demo_Haus\n",
       "count   1027.000000    1027.000000\n",
       "mean       0.009568       0.239706\n",
       "std        0.030599       0.122843\n",
       "min        0.000000       0.026415\n",
       "25%        0.000000       0.137941\n",
       "50%        0.000000       0.238914\n",
       "75%        0.000000       0.328614\n",
       "max        0.274874       0.669555"
      ]
     },
     "execution_count": 6,
     "metadata": {},
     "output_type": "execute_result"
    }
   ],
   "source": [
    "df = pd.DataFrame({\n",
    "                   'syn_demo_IOU':syn_demo_IOU,\n",
    "                   'syn_demo_Haus':syn_demo_Haus})\n",
    "df.describe()"
   ]
  },
  {
   "cell_type": "code",
   "execution_count": null,
   "metadata": {},
   "outputs": [],
   "source": []
  }
 ],
 "metadata": {
  "kernelspec": {
   "display_name": "Python 3 (ipykernel)",
   "language": "python",
   "name": "python3"
  },
  "language_info": {
   "codemirror_mode": {
    "name": "ipython",
    "version": 3
   },
   "file_extension": ".py",
   "mimetype": "text/x-python",
   "name": "python",
   "nbconvert_exporter": "python",
   "pygments_lexer": "ipython3",
   "version": "3.10.8"
  }
 },
 "nbformat": 4,
 "nbformat_minor": 4
}
